{
 "cells": [
  {
   "cell_type": "markdown",
   "id": "acceptable-composer",
   "metadata": {},
   "source": [
    "## Using TopOpt's analysis"
   ]
  },
  {
   "cell_type": "code",
   "execution_count": 1,
   "id": "comfortable-league",
   "metadata": {},
   "outputs": [],
   "source": [
    "using TopOpt"
   ]
  },
  {
   "cell_type": "code",
   "execution_count": 2,
   "id": "grateful-kentucky",
   "metadata": {},
   "outputs": [],
   "source": [
    "ins_dir = joinpath(@__DIR__, \"examples\", \"data\")\n",
    "file_name = \"7_bar_truss.json\"\n",
    "problem_file = joinpath(ins_dir, file_name)\n",
    "\n",
    "node_points, elements, mats, crosssecs, fixities, load_cases = load_truss_json(problem_file);\n",
    "ndim, nnodes, ncells = length(node_points[1]), length(node_points), length(elements)\n",
    "loads = load_cases[\"0\"]\n",
    "\n",
    "problem = TrussProblem(Val{:Linear}, node_points, elements, loads, fixities, mats, crosssecs);"
   ]
  },
  {
   "cell_type": "code",
   "execution_count": 3,
   "id": "plain-minister",
   "metadata": {},
   "outputs": [
    {
     "data": {
      "text/plain": [
       "5-element Vector{Ferrite.Node{2, Float64}}:\n",
       " Ferrite.Node{2, Float64}([0.0, 0.0])\n",
       " Ferrite.Node{2, Float64}([2.0, 0.0])\n",
       " Ferrite.Node{2, Float64}([4.0, 0.0])\n",
       " Ferrite.Node{2, Float64}([1.3, -1.0])\n",
       " Ferrite.Node{2, Float64}([2.7, -1.0])"
      ]
     },
     "execution_count": 3,
     "metadata": {},
     "output_type": "execute_result"
    }
   ],
   "source": [
    "problem.truss_grid.grid.nodes"
   ]
  },
  {
   "cell_type": "code",
   "execution_count": 34,
   "id": "mental-exception",
   "metadata": {},
   "outputs": [
    {
     "data": {
      "text/plain": [
       "7-element Vector{Ferrite.Line2D}:\n",
       " Ferrite.Line2D((1, 2))\n",
       " Ferrite.Line2D((2, 3))\n",
       " Ferrite.Line2D((4, 5))\n",
       " Ferrite.Line2D((1, 4))\n",
       " Ferrite.Line2D((2, 4))\n",
       " Ferrite.Line2D((2, 5))\n",
       " Ferrite.Line2D((3, 5))"
      ]
     },
     "execution_count": 34,
     "metadata": {},
     "output_type": "execute_result"
    }
   ],
   "source": [
    "problem.truss_grid.grid.cells"
   ]
  },
  {
   "cell_type": "code",
   "execution_count": 4,
   "id": "square-cabin",
   "metadata": {},
   "outputs": [],
   "source": [
    "solver = FEASolver(Direct, problem)\n",
    "solver()\n",
    "solver.u;"
   ]
  },
  {
   "cell_type": "code",
   "execution_count": 9,
   "id": "continent-front",
   "metadata": {},
   "outputs": [
    {
     "name": "stderr",
     "output_type": "stream",
     "text": [
      "WARNING: replacing module TrussOpt.\n"
     ]
    },
    {
     "data": {
      "text/plain": []
     },
     "execution_count": 9,
     "metadata": {},
     "output_type": "execute_result"
    },
    {
     "name": "stdout",
     "output_type": "stream",
     "text": [
      "TopOpt truss ∑ |F|L function\n"
     ]
    }
   ],
   "source": [
    "include(\"./src/TrussOpt.jl\")\n",
    "\n",
    "varying_ids = [(4, [1,2])]\n",
    "sfl = TrussOpt.TrussSumFL(problem)"
   ]
  },
  {
   "cell_type": "code",
   "execution_count": 10,
   "id": "residential-diana",
   "metadata": {},
   "outputs": [
    {
     "data": {
      "text/plain": [
       "8000.2000000000035"
      ]
     },
     "execution_count": 10,
     "metadata": {},
     "output_type": "execute_result"
    }
   ],
   "source": [
    "sfl([0.0, 0.01])"
   ]
  },
  {
   "cell_type": "code",
   "execution_count": 12,
   "id": "straight-reynolds",
   "metadata": {},
   "outputs": [],
   "source": [
    "using FiniteDifferences"
   ]
  },
  {
   "cell_type": "code",
   "execution_count": 14,
   "id": "orange-construction",
   "metadata": {},
   "outputs": [
    {
     "data": {
      "text/plain": [
       "2-element Vector{Float64}:\n",
       " 12.000000000023583\n",
       " 41.80000000010796"
      ]
     },
     "execution_count": 14,
     "metadata": {},
     "output_type": "execute_result"
    }
   ],
   "source": [
    "x0 = [1.3, -1.0]\n",
    "grad = FiniteDifferences.grad(central_fdm(5, 1), sfl, x0)[1]"
   ]
  },
  {
   "cell_type": "code",
   "execution_count": 29,
   "id": "written-bones",
   "metadata": {},
   "outputs": [
    {
     "name": "stderr",
     "output_type": "stream",
     "text": [
      "WARNING: using Optim.optimize in module Main conflicts with an existing identifier.\n"
     ]
    }
   ],
   "source": [
    "using Optim"
   ]
  },
  {
   "cell_type": "code",
   "execution_count": 139,
   "id": "governmental-syndrome",
   "metadata": {},
   "outputs": [
    {
     "name": "stderr",
     "output_type": "stream",
     "text": [
      "WARNING: using Nonconvex.optimize in module Main conflicts with an existing identifier.\n"
     ]
    }
   ],
   "source": [
    "using Nonconvex"
   ]
  },
  {
   "cell_type": "code",
   "execution_count": 56,
   "id": "unlikely-tiger",
   "metadata": {},
   "outputs": [],
   "source": [
    "lower_bounds = [0.0, -3.0]\n",
    "upper_bounds = [2.0, 3.0];"
   ]
  },
  {
   "cell_type": "code",
   "execution_count": 254,
   "id": "utility-violence",
   "metadata": {},
   "outputs": [
    {
     "data": {
      "text/plain": [
       "GradientDescent{InitialPrevious{Float64}, HagerZhang{Float64, Base.RefValue{Bool}}, Nothing, Optim.var\"#11#13\"}(InitialPrevious{Float64}\n",
       "  alpha: Float64 1.0\n",
       "  alphamin: Float64 0.0\n",
       "  alphamax: Float64 Inf\n",
       ", HagerZhang{Float64, Base.RefValue{Bool}}\n",
       "  delta: Float64 0.1\n",
       "  sigma: Float64 0.9\n",
       "  alphamax: Float64 Inf\n",
       "  rho: Float64 5.0\n",
       "  epsilon: Float64 1.0e-6\n",
       "  gamma: Float64 0.66\n",
       "  linesearchmax: Int64 50\n",
       "  psi3: Float64 0.1\n",
       "  display: Int64 0\n",
       "  mayterminate: Base.RefValue{Bool}\n",
       ", nothing, Optim.var\"#11#13\"(), Flat())"
      ]
     },
     "execution_count": 254,
     "metadata": {},
     "output_type": "execute_result"
    }
   ],
   "source": [
    "# alg = SAMIN()\n",
    "alg = GradientDescent()\n",
    "\n",
    "# alg = BFGS()"
   ]
  },
  {
   "cell_type": "code",
   "execution_count": 261,
   "id": "combined-sydney",
   "metadata": {},
   "outputs": [
    {
     "data": {
      "text/plain": [
       " * Status: success\n",
       "\n",
       " * Candidate solution\n",
       "    Final objective value:     6.928203e+01\n",
       "\n",
       " * Found with\n",
       "    Algorithm:     Fminbox with Gradient Descent\n",
       "\n",
       " * Convergence measures\n",
       "    |x - x'|               = 5.59e-08 ≰ 0.0e+00\n",
       "    |x - x'|/|x'|          = 2.80e-08 ≰ 0.0e+00\n",
       "    |f(x) - f(x')|         = 0.00e+00 ≤ 0.0e+00\n",
       "    |f(x) - f(x')|/|f(x')| = 0.00e+00 ≤ 0.0e+00\n",
       "    |g(x)|                 = 2.35e-09 ≤ 1.0e-08\n",
       "\n",
       " * Work counters\n",
       "    Seconds run:   0  (vs limit Inf)\n",
       "    Iterations:    4\n",
       "    f(x) calls:    31\n",
       "    ∇f(x) calls:   31\n"
      ]
     },
     "execution_count": 261,
     "metadata": {},
     "output_type": "execute_result"
    }
   ],
   "source": [
    "x0 = [1.0, 0.1]\n",
    "# lower_bounds, upper_bounds\n",
    "# ; \n",
    "results = Optim.optimize(sfl, lower_bounds, upper_bounds, x0, Fminbox(alg),\n",
    "            Optim.Options(store_trace = true, extended_trace=true, iterations=100)) # autodiff = :forward"
   ]
  },
  {
   "cell_type": "code",
   "execution_count": 262,
   "id": "mighty-singer",
   "metadata": {},
   "outputs": [],
   "source": [
    "using GLMakie\n",
    "GLMakie.activate!()\n",
    "\n",
    "# using Plots\n",
    "# pyplot()"
   ]
  },
  {
   "cell_type": "code",
   "execution_count": 263,
   "id": "lesser-selling",
   "metadata": {},
   "outputs": [],
   "source": [
    "xs = LinRange(0.01, 1.9, 100)\n",
    "ys = LinRange(-2, 2, 100)\n",
    "zs = [sfl([x,y]) for x in xs, y in ys];\n",
    "\n",
    "# x_grid = [x for x = xs for y = ys]\n",
    "# y_grid = [y for x = xs for y = ys]\n",
    "# z_grid = sfl.(zip(x_grid, y_grid));"
   ]
  },
  {
   "cell_type": "code",
   "execution_count": 264,
   "id": "fresh-terrain",
   "metadata": {},
   "outputs": [],
   "source": [
    "x_history = [tr.metadata[\"x\"][1] for tr in results.trace]\n",
    "y_history = [tr.metadata[\"x\"][2] for tr in results.trace]\n",
    "fn_history = [tr.value for tr in results.trace];"
   ]
  },
  {
   "cell_type": "code",
   "execution_count": 265,
   "id": "interior-draft",
   "metadata": {},
   "outputs": [
    {
     "data": {
      "text/plain": [
       "GLMakie.Screen(...)"
      ]
     },
     "execution_count": 265,
     "metadata": {},
     "output_type": "execute_result"
    }
   ],
   "source": [
    "fig = Figure()\n",
    "ax = Axis3(fig[1, 1], title=\"7-bar truss\", zlabel=\"∑|F|L\", xlabel=\"node_x\", ylabel=\"node_y\")\n",
    "\n",
    "Makie.surface!(xs, ys, zs)\n",
    "Makie.lines!(x_history, y_history, fn_history, color=1:length(x_history), linewidth = 4, colormap=:cool) #, markersize = 40\n",
    "# \n",
    "# Makie.text!(\"start\", position=Makie.Point3f0(x_history[1], y_history[1], fn_history[1]), color=:yellow)\n",
    "\n",
    "display(fig)\n",
    "\n",
    "# plt = Plots.plot(x_grid, y_grid, z_grid, st = :surface, \n",
    "#      xlabel = \"node_x\", ylabel = \"node_y\", zlabel = \"∑|F|L\")\n",
    "# Plots.scatter3d!(x_history, y_history, fn_history, markersize = 6, c = :orange)"
   ]
  },
  {
   "cell_type": "code",
   "execution_count": null,
   "id": "recent-banking",
   "metadata": {},
   "outputs": [],
   "source": [
    "# arrows(\n",
    "#     ps, ns, fxaa=true, # turn on anti-aliasing\n",
    "#     linecolor = :gray, arrowcolor = :black,\n",
    "#     linewidth = 0.1, arrowsize = Vec3f0(0.3, 0.3, 0.4),\n",
    "#     align = :center, axis=(type=Axis3,)\n",
    "# )\n",
    "\n",
    "# display()"
   ]
  },
  {
   "cell_type": "markdown",
   "id": "experimental-respondent",
   "metadata": {},
   "source": [
    "# Constrained optimization"
   ]
  },
  {
   "cell_type": "code",
   "execution_count": 48,
   "id": "classified-calcium",
   "metadata": {},
   "outputs": [
    {
     "data": {
      "text/plain": [
       "len_constr (generic function with 1 method)"
      ]
     },
     "execution_count": 48,
     "metadata": {},
     "output_type": "execute_result"
    }
   ],
   "source": [
    "using LinearAlgebra\n",
    "\n",
    "nodes = problem.truss_grid.grid.nodes\n",
    "axis_node = nodes[2]\n",
    "cells = problem.truss_grid.grid.cells\n",
    "\n",
    "length_upper = 10.0\n",
    "\n",
    "function len_constr(x)\n",
    "    total_l = 0.0\n",
    "    node4 = x\n",
    "    node5 = [axis_node.x[1] + axis_node.x[1]-node4[1], node4[2]]\n",
    "    for c in cells\n",
    "        node_uid, node_vid = c.nodes\n",
    "        node_u = collect(nodes[node_uid].x)\n",
    "        if node_uid == 4\n",
    "            node_u = node4\n",
    "        elseif node_uid == 5\n",
    "            node_u = node5\n",
    "        end\n",
    "        node_v = collect(nodes[node_vid].x)\n",
    "        if node_vid == 4\n",
    "            node_v = node4\n",
    "        elseif node_vid == 5\n",
    "            node_v = node5\n",
    "        end\n",
    "        total_l += LinearAlgebra.norm(node_u - node_v)\n",
    "    end\n",
    "    return total_l - length_upper\n",
    "end"
   ]
  },
  {
   "cell_type": "code",
   "execution_count": 49,
   "id": "handmade-activity",
   "metadata": {},
   "outputs": [
    {
     "data": {
      "text/plain": [
       "1.8639385588784432"
      ]
     },
     "execution_count": 49,
     "metadata": {},
     "output_type": "execute_result"
    }
   ],
   "source": [
    "len_constr([0.9, 1.0])"
   ]
  },
  {
   "cell_type": "code",
   "execution_count": 50,
   "id": "finnish-single",
   "metadata": {},
   "outputs": [
    {
     "name": "stdout",
     "output_type": "stream",
     "text": [
      "This is Ipopt version 3.13.4, running with linear solver mumps.\n",
      "NOTE: Other linear solvers might be more efficient (see Ipopt documentation).\n",
      "\n",
      "Number of nonzeros in equality constraint Jacobian...:        0\n",
      "Number of nonzeros in inequality constraint Jacobian.:        2\n",
      "Number of nonzeros in Lagrangian Hessian.............:        0\n",
      "\n",
      "Total number of variables............................:        2\n",
      "                     variables with only lower bounds:        0\n",
      "                variables with lower and upper bounds:        2\n",
      "                     variables with only upper bounds:        0\n",
      "Total number of equality constraints.................:        0\n",
      "Total number of inequality constraints...............:        1\n",
      "        inequality constraints with only lower bounds:        0\n",
      "   inequality constraints with lower and upper bounds:        0\n",
      "        inequality constraints with only upper bounds:        1\n",
      "\n",
      "iter    objective    inf_pr   inf_du lg(mu)  ||d||  lg(rg) alpha_du alpha_pr  ls\n",
      "   0  8.1800000e+01 1.12e+00 1.10e+01   0.0 0.00e+00    -  0.00e+00 0.00e+00   0\n",
      "   1  8.5001631e+01 9.10e-01 1.61e+01   0.2 2.80e+00    -  5.14e-01 1.24e-01f  2\n",
      "   2  8.9754778e+01 5.80e-01 1.17e+01  -0.4 3.92e-01    -  1.00e+00 4.82e-01h  1\n",
      "   3  1.0465338e+02 2.49e-02 2.12e+01  -1.7 1.86e-01    -  1.00e+00 9.91e-01h  1\n",
      "   4  1.0532701e+02 6.66e-03 4.85e+00  -3.1 7.28e-02    -  1.00e+00 1.00e+00h  1\n",
      "   5  1.0540297e+02 1.77e-03 2.87e-01  -3.3 3.58e-02    -  1.00e+00 1.00e+00h  1\n",
      "   6  1.0546718e+02 6.51e-06 5.07e-02  -5.3 8.82e-04    -  1.00e+00 9.97e-01h  1\n",
      "   7  1.0546742e+02 0.00e+00 7.35e-06  -7.2 2.40e-06    -  1.00e+00 1.00e+00h  1\n",
      "   8  1.0546742e+02 0.00e+00 6.02e-07 -11.0 6.04e-08    -  1.00e+00 1.00e+00h  1\n",
      "   9  1.0546742e+02 0.00e+00 2.42e-10 -11.0 4.44e-09    -  1.00e+00 1.00e+00h  1\n",
      "\n",
      "Number of Iterations....: 9\n",
      "\n",
      "                                   (scaled)                 (unscaled)\n",
      "Objective...............:   1.0546741663072207e+02    1.0546741663072207e+02\n",
      "Dual infeasibility......:   2.4168210162903046e-10    2.4168210162903046e-10\n",
      "Constraint violation....:   0.0000000000000000e+00    0.0000000000000000e+00\n",
      "Complementarity.........:   1.0000000000004811e-11    1.0000000000004811e-11\n",
      "Overall NLP error.......:   2.4168210162903046e-10    2.4168210162903046e-10\n",
      "\n",
      "\n",
      "Number of objective function evaluations             = 13\n",
      "Number of objective gradient evaluations             = 10\n",
      "Number of equality constraint evaluations            = 0\n",
      "Number of inequality constraint evaluations          = 13\n",
      "Number of equality constraint Jacobian evaluations   = 0\n",
      "Number of inequality constraint Jacobian evaluations = 10\n",
      "Number of Lagrangian Hessian evaluations             = 0\n",
      "Total CPU secs in IPOPT (w/o function evaluations)   =      0.048\n",
      "Total CPU secs in NLP function evaluations           =      0.076\n",
      "\n",
      "EXIT: Optimal Solution Found.\n"
     ]
    }
   ],
   "source": [
    "using Nonconvex\n",
    "import NLopt\n",
    "\n",
    "alg = NLoptAlg(:LD_SLSQP)\n",
    "options = NLoptOptions()\n",
    "\n",
    "obj = sfl\n",
    "\n",
    "# <= 0\n",
    "# function constr_linear_1(x)\n",
    "#     return 0.6*x[1] - x[2] + (0.6)\n",
    "# end\n",
    "# function constr_linear_2(x)\n",
    "#     return -1.8*x[1]-1.0*x[2]\n",
    "# end\n",
    "# center = [1.0,1.0]\n",
    "# radius = 0.1\n",
    "# function constr3_ball(x)\n",
    "#     return sum((x .- center).^2) - radius^2\n",
    "# end\n",
    "\n",
    "model = Nonconvex.Model(obj)\n",
    "Nonconvex.addvar!(model, [0.0, -3.0], [2.0, 3.0])\n",
    "add_ineq_constraint!(model, len_constr)\n",
    "# add_ineq_constraint!(model, constr2)\n",
    "# add_eq_constraint!(model, f)\n",
    "\n",
    "alg = IpoptAlg()\n",
    "options = IpoptOptions()\n",
    "r = Nonconvex.optimize(model, alg, x0, options = options);"
   ]
  },
  {
   "cell_type": "code",
   "execution_count": 51,
   "id": "greatest-sellers",
   "metadata": {},
   "outputs": [
    {
     "name": "stdout",
     "output_type": "stream",
     "text": [
      "r.minimum = 105.46741663072207\n",
      "r.minimizer = [1.6742440683867743, -0.7665236799897839]\n"
     ]
    },
    {
     "data": {
      "text/plain": [
       "2-element Vector{Float64}:\n",
       "  1.6742440683867743\n",
       " -0.7665236799897839"
      ]
     },
     "execution_count": 51,
     "metadata": {},
     "output_type": "execute_result"
    }
   ],
   "source": [
    "@show r.minimum\n",
    "@show r.minimizer"
   ]
  }
 ],
 "metadata": {
  "kernelspec": {
   "display_name": "Julia 1.6.0-rc1",
   "language": "julia",
   "name": "julia-1.6"
  },
  "language_info": {
   "file_extension": ".jl",
   "mimetype": "application/julia",
   "name": "julia",
   "version": "1.6.0"
  }
 },
 "nbformat": 4,
 "nbformat_minor": 5
}
